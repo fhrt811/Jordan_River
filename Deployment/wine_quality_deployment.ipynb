{
 "cells": [
  {
   "cell_type": "code",
   "execution_count": 1,
   "metadata": {},
   "outputs": [],
   "source": [
    "import pandas as pd\n",
    "from flask import Flask, request, render_template, redirect\n",
    "import pickle"
   ]
  },
  {
   "cell_type": "markdown",
   "metadata": {},
   "source": [
    "Load the Linear regression Red Wine model"
   ]
  },
  {
   "cell_type": "code",
   "execution_count": 3,
   "metadata": {},
   "outputs": [],
   "source": [
    "def load_model(filename):\n",
    "    pklfile=open(filename,'rb')\n",
    "    lr_model=pickle.load(pklfile)\n",
    "    pklfile.close()\n",
    "    return lr_model"
   ]
  },
  {
   "cell_type": "code",
   "execution_count": 4,
   "metadata": {},
   "outputs": [],
   "source": [
    "lr_model_wine=load_model('C:\\\\Users\\\\fhrt8\\\\Desktop\\\\DATA\\\\Jordan River\\\\models\\\\wine_model.pkl')"
   ]
  },
  {
   "cell_type": "markdown",
   "metadata": {},
   "source": [
    "Create a flask app"
   ]
  },
  {
   "cell_type": "code",
   "execution_count": 5,
   "metadata": {},
   "outputs": [
    {
     "name": "stdout",
     "output_type": "stream",
     "text": [
      "Create a flask app for __main__\n"
     ]
    }
   ],
   "source": [
    "print(f'Create a flask app for {__name__}')\n",
    "app=Flask(__name__)"
   ]
  },
  {
   "cell_type": "code",
   "execution_count": 8,
   "metadata": {},
   "outputs": [],
   "source": [
    "#Establish default route\n",
    "@app.route('/')\n",
    "def default():\n",
    "    return redirect('/red_input')"
   ]
  },
  {
   "cell_type": "code",
   "execution_count": 11,
   "metadata": {},
   "outputs": [
    {
     "ename": "AssertionError",
     "evalue": "View function mapping is overwriting an existing endpoint function: red_input",
     "output_type": "error",
     "traceback": [
      "\u001b[1;31m---------------------------------------------------------------------------\u001b[0m",
      "\u001b[1;31mAssertionError\u001b[0m                            Traceback (most recent call last)",
      "\u001b[1;32mc:\\Users\\fhrt8\\Desktop\\DATA\\Jordan River\\Deployment\\wine_quality_deployment.ipynb Cell 8\u001b[0m line \u001b[0;36m2\n\u001b[0;32m      <a href='vscode-notebook-cell:/c%3A/Users/fhrt8/Desktop/DATA/Jordan%20River/Deployment/wine_quality_deployment.ipynb#X10sZmlsZQ%3D%3D?line=0'>1</a>\u001b[0m \u001b[39m@app\u001b[39;49m\u001b[39m.\u001b[39;49mroute(\u001b[39m'\u001b[39;49m\u001b[39m/red_input\u001b[39;49m\u001b[39m'\u001b[39;49m)\n\u001b[1;32m----> <a href='vscode-notebook-cell:/c%3A/Users/fhrt8/Desktop/DATA/Jordan%20River/Deployment/wine_quality_deployment.ipynb#X10sZmlsZQ%3D%3D?line=1'>2</a>\u001b[0m \u001b[39mdef\u001b[39;49;00m \u001b[39mred_input\u001b[39;49m():\n\u001b[0;32m      <a href='vscode-notebook-cell:/c%3A/Users/fhrt8/Desktop/DATA/Jordan%20River/Deployment/wine_quality_deployment.ipynb#X10sZmlsZQ%3D%3D?line=2'>3</a>\u001b[0m     \u001b[39mreturn\u001b[39;49;00m render_template(\u001b[39m'\u001b[39;49m\u001b[39mRed_wine_input.html\u001b[39;49m\u001b[39m'\u001b[39;49m)\n\u001b[0;32m      <a href='vscode-notebook-cell:/c%3A/Users/fhrt8/Desktop/DATA/Jordan%20River/Deployment/wine_quality_deployment.ipynb#X10sZmlsZQ%3D%3D?line=4'>5</a>\u001b[0m \u001b[39m@app\u001b[39m\u001b[39m.\u001b[39mroute(\u001b[39m'\u001b[39m\u001b[39mred_predict\u001b[39m\u001b[39m'\u001b[39m,methods\u001b[39m=\u001b[39m[\u001b[39m\"\u001b[39m\u001b[39mGET\u001b[39m\u001b[39m\"\u001b[39m,\u001b[39m\"\u001b[39m\u001b[39mPOST\u001b[39m\u001b[39m\"\u001b[39m])\n\u001b[0;32m      <a href='vscode-notebook-cell:/c%3A/Users/fhrt8/Desktop/DATA/Jordan%20River/Deployment/wine_quality_deployment.ipynb#X10sZmlsZQ%3D%3D?line=5'>6</a>\u001b[0m \u001b[39mdef\u001b[39;00m \u001b[39mred_predict\u001b[39m():\n",
      "File \u001b[1;32mc:\\Users\\fhrt8\\anaconda3\\envs\\jordan\\lib\\site-packages\\flask\\sansio\\scaffold.py:364\u001b[0m, in \u001b[0;36mScaffold.route.<locals>.decorator\u001b[1;34m(f)\u001b[0m\n\u001b[0;32m    362\u001b[0m \u001b[39mdef\u001b[39;00m \u001b[39mdecorator\u001b[39m(f: T_route) \u001b[39m-\u001b[39m\u001b[39m>\u001b[39m T_route:\n\u001b[0;32m    363\u001b[0m     endpoint \u001b[39m=\u001b[39m options\u001b[39m.\u001b[39mpop(\u001b[39m\"\u001b[39m\u001b[39mendpoint\u001b[39m\u001b[39m\"\u001b[39m, \u001b[39mNone\u001b[39;00m)\n\u001b[1;32m--> 364\u001b[0m     \u001b[39mself\u001b[39m\u001b[39m.\u001b[39madd_url_rule(rule, endpoint, f, \u001b[39m*\u001b[39m\u001b[39m*\u001b[39moptions)\n\u001b[0;32m    365\u001b[0m     \u001b[39mreturn\u001b[39;00m f\n",
      "File \u001b[1;32mc:\\Users\\fhrt8\\anaconda3\\envs\\jordan\\lib\\site-packages\\flask\\sansio\\scaffold.py:44\u001b[0m, in \u001b[0;36msetupmethod.<locals>.wrapper_func\u001b[1;34m(self, *args, **kwargs)\u001b[0m\n\u001b[0;32m     42\u001b[0m \u001b[39mdef\u001b[39;00m \u001b[39mwrapper_func\u001b[39m(\u001b[39mself\u001b[39m, \u001b[39m*\u001b[39margs: t\u001b[39m.\u001b[39mAny, \u001b[39m*\u001b[39m\u001b[39m*\u001b[39mkwargs: t\u001b[39m.\u001b[39mAny) \u001b[39m-\u001b[39m\u001b[39m>\u001b[39m t\u001b[39m.\u001b[39mAny:\n\u001b[0;32m     43\u001b[0m     \u001b[39mself\u001b[39m\u001b[39m.\u001b[39m_check_setup_finished(f_name)\n\u001b[1;32m---> 44\u001b[0m     \u001b[39mreturn\u001b[39;00m f(\u001b[39mself\u001b[39m, \u001b[39m*\u001b[39margs, \u001b[39m*\u001b[39m\u001b[39m*\u001b[39mkwargs)\n",
      "File \u001b[1;32mc:\\Users\\fhrt8\\anaconda3\\envs\\jordan\\lib\\site-packages\\flask\\sansio\\app.py:659\u001b[0m, in \u001b[0;36mApp.add_url_rule\u001b[1;34m(self, rule, endpoint, view_func, provide_automatic_options, **options)\u001b[0m\n\u001b[0;32m    657\u001b[0m old_func \u001b[39m=\u001b[39m \u001b[39mself\u001b[39m\u001b[39m.\u001b[39mview_functions\u001b[39m.\u001b[39mget(endpoint)\n\u001b[0;32m    658\u001b[0m \u001b[39mif\u001b[39;00m old_func \u001b[39mis\u001b[39;00m \u001b[39mnot\u001b[39;00m \u001b[39mNone\u001b[39;00m \u001b[39mand\u001b[39;00m old_func \u001b[39m!=\u001b[39m view_func:\n\u001b[1;32m--> 659\u001b[0m     \u001b[39mraise\u001b[39;00m \u001b[39mAssertionError\u001b[39;00m(\n\u001b[0;32m    660\u001b[0m         \u001b[39m\"\u001b[39m\u001b[39mView function mapping is overwriting an existing\u001b[39m\u001b[39m\"\u001b[39m\n\u001b[0;32m    661\u001b[0m         \u001b[39mf\u001b[39m\u001b[39m\"\u001b[39m\u001b[39m endpoint function: \u001b[39m\u001b[39m{\u001b[39;00mendpoint\u001b[39m}\u001b[39;00m\u001b[39m\"\u001b[39m\n\u001b[0;32m    662\u001b[0m     )\n\u001b[0;32m    663\u001b[0m \u001b[39mself\u001b[39m\u001b[39m.\u001b[39mview_functions[endpoint] \u001b[39m=\u001b[39m view_func\n",
      "\u001b[1;31mAssertionError\u001b[0m: View function mapping is overwriting an existing endpoint function: red_input"
     ]
    }
   ],
   "source": [
    "@app.route('/red_input')\n",
    "def red_input():\n",
    "    return render_template('Red_wine_input.html')\n",
    "\n",
    "@app.route('red_predict',methods=[\"GET\",\"POST\"])\n",
    "def red_predict():\n",
    "    if request.method=='GET':\n",
    "        va=request.arg.get('va')\n",
    "        sul=request.arg.get('sul')\n",
    "        alc=request.arg.get('alc')\n",
    "\n",
    "        data_red_wine=pd.DataFrame([[va,sul,alc]])\n",
    "        arr_red_predict=lr_model_wine.preedict(data_red_wine)[0]\n",
    "        arr_red_predict=int(round(arr_red_predict,0))\n",
    "        return render_template('red_wine_quality_predict.html', va=va, sul=sul, alc=alc, arr_red_predict=arr_red_predict)\n",
    "    ### --> HTML response\n",
    "        \n",
    "    return \"Unsupported request method,{}\".format(request.method),400"
   ]
  },
  {
   "cell_type": "code",
   "execution_count": null,
   "metadata": {},
   "outputs": [],
   "source": [
    "if __name__ == '__main__':\n",
    "    app.run()"
   ]
  }
 ],
 "metadata": {
  "kernelspec": {
   "display_name": "jordan",
   "language": "python",
   "name": "python3"
  },
  "language_info": {
   "codemirror_mode": {
    "name": "ipython",
    "version": 3
   },
   "file_extension": ".py",
   "mimetype": "text/x-python",
   "name": "python",
   "nbconvert_exporter": "python",
   "pygments_lexer": "ipython3",
   "version": "3.9.0"
  }
 },
 "nbformat": 4,
 "nbformat_minor": 2
}

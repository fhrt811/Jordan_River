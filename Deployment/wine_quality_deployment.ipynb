{
 "cells": [
  {
   "cell_type": "code",
   "execution_count": 10,
   "metadata": {},
   "outputs": [],
   "source": [
    "import pandas as pd\n",
    "from flask import Flask, request, render_template, redirect\n",
    "import pickle\n",
    "from flask_cors import CORS,cross_origin\n",
    "import requests"
   ]
  },
  {
   "cell_type": "markdown",
   "metadata": {},
   "source": [
    "Load the Linear regression Red Wine model"
   ]
  },
  {
   "cell_type": "code",
   "execution_count": 11,
   "metadata": {},
   "outputs": [],
   "source": [
    "def load_model(filename):\n",
    "    pklfile=open(filename,'rb')\n",
    "    lr_model=pickle.load(pklfile)\n",
    "    pklfile.close()\n",
    "    return lr_model"
   ]
  },
  {
   "cell_type": "code",
   "execution_count": 12,
   "metadata": {},
   "outputs": [],
   "source": [
    "lr_model_wine=load_model('C:\\\\Users\\\\fhrt8\\\\Desktop\\\\DATA\\\\Jordan River\\\\models\\\\wine_model.pkl')"
   ]
  },
  {
   "cell_type": "markdown",
   "metadata": {},
   "source": [
    "Create a flask app"
   ]
  },
  {
   "cell_type": "code",
   "execution_count": 13,
   "metadata": {},
   "outputs": [
    {
     "name": "stdout",
     "output_type": "stream",
     "text": [
      "Create a flask app for __main__\n"
     ]
    }
   ],
   "source": [
    "print(f'Create a flask app for {__name__}')\n",
    "app=Flask(__name__)"
   ]
  },
  {
   "cell_type": "code",
   "execution_count": 14,
   "metadata": {},
   "outputs": [],
   "source": [
    "#Establish default route\n",
    "@app.route('/')\n",
    "def default():\n",
    "    return redirect('/red_input')"
   ]
  },
  {
   "cell_type": "code",
   "execution_count": 15,
   "metadata": {},
   "outputs": [],
   "source": [
    "@app.route('/red_input', methods=[\"GET\"])\n",
    "\n",
    "def red_input():\n",
    "    return render_template('Red_wine_input.html')\n",
    "\n",
    "@app.route('/red_predict',methods=[\"GET\",\"POST\"])\n",
    "\n",
    "def red_predict():\n",
    "    if request.method=='GET':\n",
    "        va=request.arg.get('va')\n",
    "        sul=request.arg.get('sul')\n",
    "        alc=request.arg.get('alc')\n",
    "\n",
    "        data_red_wine=pd.DataFrame([[va,sul,alc]])\n",
    "        arr_red_predict=lr_model_wine.predict(data_red_wine)[0]\n",
    "        arr_red_predict=int(round(arr_red_predict,0))\n",
    "        return render_template('red_wine_quality_predict.html', va=va, sul=sul, alc=alc, arr_red_predict=arr_red_predict)\n",
    "    ### --> HTML response\n",
    "        \n",
    "    #return \"Unsupported request method,{}\".format(request.method),400"
   ]
  },
  {
   "cell_type": "code",
   "execution_count": 17,
   "metadata": {},
   "outputs": [
    {
     "name": "stdout",
     "output_type": "stream",
     "text": [
      " * Serving Flask app '__main__'\n",
      " * Debug mode: off\n"
     ]
    },
    {
     "name": "stderr",
     "output_type": "stream",
     "text": [
      "WARNING: This is a development server. Do not use it in a production deployment. Use a production WSGI server instead.\n",
      " * Running on all addresses (0.0.0.0)\n",
      " * Running on http://127.0.0.1:5001\n",
      " * Running on http://192.168.29.241:5001\n",
      "Press CTRL+C to quit\n",
      "127.0.0.1 - - [30/Nov/2023 17:25:09] \"GET / HTTP/1.1\" 302 -\n",
      "127.0.0.1 - - [30/Nov/2023 17:25:09] \"GET /red_input HTTP/1.1\" 200 -\n",
      "127.0.0.1 - - [30/Nov/2023 17:25:09] \"GET /favicon.ico HTTP/1.1\" 404 -\n",
      "[2023-11-30 17:25:18,456] ERROR in app: Exception on /red_predict [GET]\n",
      "Traceback (most recent call last):\n",
      "  File \"c:\\Users\\fhrt8\\anaconda3\\envs\\jordan\\lib\\site-packages\\flask\\app.py\", line 1455, in wsgi_app\n",
      "    response = self.full_dispatch_request()\n",
      "  File \"c:\\Users\\fhrt8\\anaconda3\\envs\\jordan\\lib\\site-packages\\flask\\app.py\", line 869, in full_dispatch_request\n",
      "    rv = self.handle_user_exception(e)\n",
      "  File \"c:\\Users\\fhrt8\\anaconda3\\envs\\jordan\\lib\\site-packages\\flask\\app.py\", line 867, in full_dispatch_request\n",
      "    rv = self.dispatch_request()\n",
      "  File \"c:\\Users\\fhrt8\\anaconda3\\envs\\jordan\\lib\\site-packages\\flask\\app.py\", line 852, in dispatch_request\n",
      "    return self.ensure_sync(self.view_functions[rule.endpoint])(**view_args)\n",
      "  File \"C:\\Users\\fhrt8\\AppData\\Local\\Temp\\ipykernel_4528\\4237980339.py\", line 10, in red_predict\n",
      "    va=request.arg.get('va')\n",
      "AttributeError: 'Request' object has no attribute 'arg'\n",
      "127.0.0.1 - - [30/Nov/2023 17:25:18] \"GET /red_predict?va=0.3&sul=0.9&alc=0.67 HTTP/1.1\" 500 -\n"
     ]
    }
   ],
   "source": [
    "if __name__ == '__main__':\n",
    "    app.run(host=\"0.0.0.0\",port=5001)"
   ]
  },
  {
   "cell_type": "code",
   "execution_count": null,
   "metadata": {},
   "outputs": [],
   "source": []
  }
 ],
 "metadata": {
  "kernelspec": {
   "display_name": "jordan",
   "language": "python",
   "name": "python3"
  },
  "language_info": {
   "codemirror_mode": {
    "name": "ipython",
    "version": 3
   },
   "file_extension": ".py",
   "mimetype": "text/x-python",
   "name": "python",
   "nbconvert_exporter": "python",
   "pygments_lexer": "ipython3",
   "version": "3.9.0"
  }
 },
 "nbformat": 4,
 "nbformat_minor": 2
}
